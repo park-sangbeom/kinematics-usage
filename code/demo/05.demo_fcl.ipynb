{
 "cells": [
  {
   "cell_type": "code",
   "execution_count": 1,
   "metadata": {},
   "outputs": [
    {
     "name": "stdout",
     "output_type": "stream",
     "text": [
      "Done.\n"
     ]
    }
   ],
   "source": [
    "import fcl \n",
    "import math \n",
    "import numpy as np \n",
    "import matplotlib.pyplot as plt \n",
    "from mpl_toolkits.mplot3d import Axes3D\n",
    "from mpl_toolkits.mplot3d.art3d import Poly3DCollection\n",
    "from tf.transformations import quaternion_from_euler \n",
    "\n",
    "print(\"Done.\")"
   ]
  },
  {
   "cell_type": "markdown",
   "metadata": {},
   "source": [
    "### Flexible Collision Library"
   ]
  },
  {
   "cell_type": "code",
   "execution_count": 2,
   "metadata": {},
   "outputs": [],
   "source": [
    "\"\"\" Flexible Collision Library \"\"\"\n",
    "class PyFCL:\n",
    "    def __init__(self, _num_max_contacts = 100, _verbose = True):\n",
    "        self.geom_lst = []\n",
    "        self.objs_lst = []\n",
    "        self.name_lst = [] \n",
    "        self.verbose  = _verbose\n",
    "        self.req      = fcl.CollisionRequest()\n",
    "        self.res      = fcl.CollisionResult()\n",
    "        self.cdata    = fcl.CollisionData(request = self.req)\n",
    "\n",
    "    # capsule type: [position[0], position[1], position[2], rpy[0], rpy[1], rpy[2], height, radius]\n",
    "    # box type: [position[0], position[1], position[2], rpy[0], rpy[1], rpy[2], size[0], size[1], size[2]]\n",
    "    def fclize_obj(self, obj_info): \n",
    "        obj_name = obj_info[\"name\"]\n",
    "        obj_type = obj_info[\"type\"]\n",
    "        obj_pos  = obj_info[\"position\"]\n",
    "        obj_rpy  = obj_info[\"orientation\"]\n",
    "        obj_size = obj_info[\"size\"]\n",
    "\n",
    "        if obj_type == \"capsule\":\n",
    "            obj_height = obj_size[0]\n",
    "            obj_radius = obj_size[1]\n",
    "            obj_q = quaternion_from_euler (obj_rpy[0], obj_rpy[1], obj_rpy[2]) \n",
    "            obj_t = np.array(obj_pos)\n",
    "            obj_g = fcl.Capsule(obj_radius, obj_height)\n",
    "            obj_t = fcl.Transform(obj_q, obj_t)\n",
    "            obj_o = fcl.CollisionObject(obj_g, obj_t)\n",
    " \n",
    "        if obj_type == \"box\": \n",
    "            obj_q = quaternion_from_euler (obj_rpy[0], obj_rpy[1], obj_rpy[2]) \n",
    "            obj_t = np.array(obj_pos)            \n",
    "            obj_g = fcl.Box(obj_size[0], obj_size[1], obj_size[2])\n",
    "            obj_t = fcl.Transform(obj_q, obj_t)\n",
    "            obj_o = fcl.CollisionObject(obj_g, obj_t)\n",
    "        self.geom_lst.append(obj_g)\n",
    "        self.objs_lst.append(obj_o)\n",
    "        self.name_lst.append(obj_name)\n",
    "        return obj_o \n",
    "\n",
    "    def one2one_cc(self, fclize_obj1, fclize_obj2):\n",
    "        collision = fcl.collide(fclize_obj1, fclize_obj2, self.req, self.res)\n",
    "        \"\"\" Collision Check \"\"\"\n",
    "        if collision: \n",
    "            if self.verbose: \n",
    "                print(\"Collision Detection\")\n",
    "            return True # Collision detection\n",
    "        else: \n",
    "            if self.verbose: \n",
    "                print(\"Collision Free\")\n",
    "            return False  # Collision free \n",
    "\n",
    "    def one2many_cc(self, obj, obj_list):\n",
    "        manager = fcl.DynamicAABBTreeCollisionManager()\n",
    "        manager.registerObjects(obj_list)\n",
    "        manager.setup()\n",
    "        manager.collide(obj, self.cdata, fcl.defaultCollisionCallback)\n",
    "        collision = self.cdata.result.is_collision\n",
    "        if self.verbose: \n",
    "            objs_in_collision = set() \n",
    "            # Create map from geometry IDs to objects\n",
    "            geom_id_to_obj  = {id(geom) : obj for geom, obj in zip(self.geom_lst, self.objs_lst)}\n",
    "            # Create map from geometry IDs to string names\n",
    "            geom_id_to_name = {id(geom) : name for geom, name in zip(self.geom_lst, self.name_lst)}\n",
    "            for contact in self.cdata.result.contacts:\n",
    "                coll_geom_0 = contact.o1\n",
    "                coll_geom_1 = contact.o2\n",
    "\n",
    "                # Get their names\n",
    "                coll_names = [geom_id_to_name[id(coll_geom_0)], geom_id_to_name[id(coll_geom_1)]]\n",
    "                coll_names = tuple(sorted(coll_names))\n",
    "                objs_in_collision.add(coll_names)\n",
    "\n",
    "            for coll_pair in objs_in_collision:\n",
    "                pass\n",
    "                print('*WARNING* {} in collision with object {}!'.format(coll_pair[0], coll_pair[1]))\n",
    "        \"\"\" Collision Check \"\"\"\n",
    "        if collision: \n",
    "            return True # Collision detection\n",
    "        else: \n",
    "            print(\"Collision Free\")\n",
    "            return False  # Collision free "
   ]
  },
  {
   "cell_type": "markdown",
   "metadata": {},
   "source": [
    "### Object Spawn"
   ]
  },
  {
   "cell_type": "code",
   "execution_count": 4,
   "metadata": {},
   "outputs": [
    {
     "name": "stdout",
     "output_type": "stream",
     "text": [
      "Collision Free\n",
      "Is collision? False\n"
     ]
    }
   ],
   "source": [
    "\"\"\" Sample \"\"\"\n",
    "def make_obj(name, type, position, orientation, size): \n",
    "    return {\"name\":name, \"type\":type, \"position\":position, \"orientation\":orientation, \"size\":size}\n",
    "\n",
    "obj_info_lst = []\n",
    "objinfo1 = make_obj(name=\"obs1\", type=\"box\", position=[3,3,-3], orientation=[0,0,0], size=[1,1,1])\n",
    "obj_info_lst.append(objinfo1)\n",
    "\n",
    "objinfo2 = make_obj(name=\"obs2\", type=\"box\", position=[-3.5,-2.5,-2], orientation=[0,0,0], size=[1,1,1])\n",
    "obj_info_lst.append(objinfo2)\n",
    "\n",
    "objinfo3 = make_obj(name=\"obs3\", type=\"box\", position=[-2,1,4], orientation=[0,0,0], size=[1,1,1])\n",
    "obj_info_lst.append(objinfo3)\n",
    "\n",
    "objinfo4 = make_obj(name=\"obs4\", type=\"box\", position=[-1.5,-2,-2], orientation=[0,0,0], size=[1,1,1])\n",
    "obj_info_lst.append(objinfo4)\n",
    "\n",
    "objinfo5 = make_obj(name=\"obs5\", type=\"box\", position=[0,1.3,-2], orientation=[0,0,0], size=[1,1,1])\n",
    "obj_info_lst.append(objinfo5)\n",
    "\n",
    "objinfo6 = make_obj(name=\"obs6\", type=\"box\", position=[2.2,1,1], orientation=[0,0,0], size=[1,1,1])\n",
    "obj_info_lst.append(objinfo6)\n",
    "\n",
    "objinfo7 = make_obj(name=\"obs7\", type=\"box\", position=[-1.4,-3,-2], orientation=[0,0,0], size=[1,1,1])\n",
    "obj_info_lst.append(objinfo7)\n",
    "\n"
   ]
  },
  {
   "cell_type": "markdown",
   "metadata": {},
   "source": [
    "### One2Many CC "
   ]
  },
  {
   "cell_type": "code",
   "execution_count": null,
   "metadata": {},
   "outputs": [],
   "source": [
    "\"\"\" Object Instance \"\"\"\n",
    "fclize = PyFCL() \n",
    "\n",
    "obs1 = fclize.fclize_obj(objinfo1)\n",
    "obs2 = fclize.fclize_obj(objinfo2)\n",
    "obs3 = fclize.fclize_obj(objinfo3)\n",
    "obj_list = [obs2,obs3]\n",
    "\n",
    "\"\"\" Check Collision \"\"\"\n",
    "one2many_result = fclize.one2many_cc(obs1 , obj_list)\n",
    "print(\"Is collision? %s\"%one2many_result)"
   ]
  },
  {
   "cell_type": "markdown",
   "metadata": {},
   "source": [
    "### One2Oone CC "
   ]
  },
  {
   "cell_type": "code",
   "execution_count": 5,
   "metadata": {},
   "outputs": [
    {
     "name": "stdout",
     "output_type": "stream",
     "text": [
      "Collision Free\n",
      "Is collision? False\n",
      "Collision Free\n",
      "Is collision? False\n"
     ]
    }
   ],
   "source": [
    "\"\"\" Object Instance \"\"\"\n",
    "fclize = PyFCL() \n",
    "\n",
    "obs4 = fclize.fclize_obj(objinfo4)\n",
    "obs5 = fclize.fclize_obj(objinfo5)\n",
    "obs6 = fclize.fclize_obj(objinfo6)\n",
    "obs7 = fclize.fclize_obj(objinfo7)\n",
    "\n",
    "\"\"\" Check Collision \"\"\"\n",
    "one2one_result = fclize.one2one_cc(obs4, obs5)\n",
    "print(\"Is collision? %s\"%one2one_result)\n",
    "\n",
    "one2one_result2 = fclize.one2one_cc(obs6, obs7)\n",
    "print(\"Is collision? %s\"%one2one_result2)"
   ]
  },
  {
   "cell_type": "code",
   "execution_count": null,
   "metadata": {},
   "outputs": [],
   "source": []
  }
 ],
 "metadata": {
  "kernelspec": {
   "display_name": "Python 3.8.10 64-bit",
   "language": "python",
   "name": "python3"
  },
  "language_info": {
   "codemirror_mode": {
    "name": "ipython",
    "version": 3
   },
   "file_extension": ".py",
   "mimetype": "text/x-python",
   "name": "python",
   "nbconvert_exporter": "python",
   "pygments_lexer": "ipython3",
   "version": "3.8.10"
  },
  "orig_nbformat": 4,
  "vscode": {
   "interpreter": {
    "hash": "916dbcbb3f70747c44a77c7bcd40155683ae19c65e1c03b4aa3499c5328201f1"
   }
  }
 },
 "nbformat": 4,
 "nbformat_minor": 2
}

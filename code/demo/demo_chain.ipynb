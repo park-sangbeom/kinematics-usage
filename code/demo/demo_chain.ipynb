{
 "cells": [
  {
   "cell_type": "code",
   "execution_count": 1,
   "metadata": {},
   "outputs": [
    {
     "name": "stdout",
     "output_type": "stream",
     "text": [
      "Done.\n"
     ]
    }
   ],
   "source": [
    "import numpy as np \n",
    "import rospy \n",
    "import os \n",
    "import sys\n",
    "sys.path.append(\"..\")\n",
    "from kinematics.class_structure import CHAIN\n",
    "\n",
    "print(\"Done.\")"
   ]
  },
  {
   "cell_type": "markdown",
   "metadata": {},
   "source": [
    "### Chain: UR5 OnRobot"
   ]
  },
  {
   "cell_type": "code",
   "execution_count": 2,
   "metadata": {},
   "outputs": [
    {
     "name": "stdout",
     "output_type": "stream",
     "text": [
      "ee_fixed_joint [[ 0.81725 ]\n",
      " [ 0.19145 ]\n",
      " [-0.005491]]\n"
     ]
    }
   ],
   "source": [
    "file_name = \"../urdf/ur5/ur5_onrobot.urdf\"\n",
    "chain = CHAIN(file_name=file_name, base_offset=[0,0,0], verbose=False)\n",
    "chain.add_joi_to_robot()\n",
    "chain.add_link_to_robot()\n",
    "chain.fk_chain(1)\n",
    "print(chain.joint[7].name ,chain.joint[7].p)"
   ]
  },
  {
   "cell_type": "markdown",
   "metadata": {},
   "source": [
    "### Chain: UR5e "
   ]
  },
  {
   "cell_type": "code",
   "execution_count": 3,
   "metadata": {},
   "outputs": [
    {
     "name": "stdout",
     "output_type": "stream",
     "text": [
      "Name: base_joint                         , ID: 1 , Mother_joint: 0 , Child_joint: [2, 15]    , Type: fixed     , Axis: [[0. 0. 1.]]    , B_offset:[[0. 0. 0.]]\n",
      "Current Position: [[0 0 0]]\n",
      "Current Rotation: \n",
      "[[1. 0. 0.]\n",
      " [0. 1. 0.]\n",
      " [0. 0. 1.]]\n",
      "\n",
      "Name: shoulder_pan_joint                 , ID: 2 , Mother_joint: 1 , Child_joint: [3]        , Type: revolute  , Axis: [[0. 0. 1.]]    , B_offset:[[0.    0.    0.163]]\n",
      "Current Position: [[0 0 0]]\n",
      "Current Rotation: \n",
      "[[1. 0. 0.]\n",
      " [0. 1. 0.]\n",
      " [0. 0. 1.]]\n",
      "\n",
      "Name: shoulder_lift_joint                , ID: 3 , Mother_joint: 2 , Child_joint: [4]        , Type: revolute  , Axis: [[0. 1. 0.]]    , B_offset:[[0.    0.138 0.   ]]\n",
      "Current Position: [[0 0 0]]\n",
      "Current Rotation: \n",
      "[[1. 0. 0.]\n",
      " [0. 1. 0.]\n",
      " [0. 0. 1.]]\n",
      "\n",
      "Name: elbow_joint                        , ID: 4 , Mother_joint: 3 , Child_joint: [5]        , Type: revolute  , Axis: [[0. 1. 0.]]    , B_offset:[[ 0.    -0.131  0.425]]\n",
      "Current Position: [[0 0 0]]\n",
      "Current Rotation: \n",
      "[[1. 0. 0.]\n",
      " [0. 1. 0.]\n",
      " [0. 0. 1.]]\n",
      "\n",
      "Name: wrist_1_joint                      , ID: 5 , Mother_joint: 4 , Child_joint: [6]        , Type: revolute  , Axis: [[0. 1. 0.]]    , B_offset:[[0.    0.    0.392]]\n",
      "Current Position: [[0 0 0]]\n",
      "Current Rotation: \n",
      "[[1. 0. 0.]\n",
      " [0. 1. 0.]\n",
      " [0. 0. 1.]]\n",
      "\n",
      "Name: wrist_2_joint                      , ID: 6 , Mother_joint: 5 , Child_joint: [7]        , Type: revolute  , Axis: [[0. 0. 1.]]    , B_offset:[[0.    0.127 0.   ]]\n",
      "Current Position: [[0 0 0]]\n",
      "Current Rotation: \n",
      "[[1. 0. 0.]\n",
      " [0. 1. 0.]\n",
      " [0. 0. 1.]]\n",
      "\n",
      "Name: wrist_3_joint                      , ID: 7 , Mother_joint: 6 , Child_joint: [8, 16]    , Type: revolute  , Axis: [[0. 1. 0.]]    , B_offset:[[0.  0.  0.1]]\n",
      "Current Position: [[0 0 0]]\n",
      "Current Rotation: \n",
      "[[1. 0. 0.]\n",
      " [0. 1. 0.]\n",
      " [0. 0. 1.]]\n",
      "\n",
      "Name: ee_fixed_joint                     , ID: 8 , Mother_joint: 7 , Child_joint: [0]        , Type: fixed     , Axis: [[1. 1. 1.]]    , B_offset:[[0.  0.1 0. ]]\n",
      "Current Position: [[0 0 0]]\n",
      "Current Rotation: \n",
      "[[1. 0. 0.]\n",
      " [0. 1. 0.]\n",
      " [0. 0. 1.]]\n",
      "\n",
      "Name: base_link-base_fixed_joint         , ID: 15, Mother_joint: 1 , Child_joint: [0]        , Type: fixed     , Axis: [[1. 1. 1.]]    , B_offset:[[0. 0. 0.]]\n",
      "Current Position: [[0 0 0]]\n",
      "Current Rotation: \n",
      "[[1. 0. 0.]\n",
      " [0. 1. 0.]\n",
      " [0. 0. 1.]]\n",
      "\n",
      "Name: wrist_3_link-tool0_fixed_joint     , ID: 16, Mother_joint: 7 , Child_joint: [0]        , Type: fixed     , Axis: [[1. 1. 1.]]    , B_offset:[[0.  0.1 0. ]]\n",
      "Current Position: [[0 0 0]]\n",
      "Current Rotation: \n",
      "[[1. 0. 0.]\n",
      " [0. 1. 0.]\n",
      " [0. 0. 1.]]\n",
      "\n",
      "Name: world_joint                        , ID: 17, Mother_joint: 0 , Child_joint: [2, 15]    , Type: fixed     , Axis: [[1. 1. 1.]]    , B_offset:[[0. 0. 0.]]\n",
      "Current Position: [[0 0 0]]\n",
      "Current Rotation: \n",
      "[[1. 0. 0.]\n",
      " [0. 1. 0.]\n",
      " [0. 0. 1.]]\n",
      "\n"
     ]
    }
   ],
   "source": [
    "file_name = \"../urdf/ur5e/ur5e.urdf\"\n",
    "chain = CHAIN(file_name=file_name, base_offset=[0,0,0], verbose=True)\n",
    "chain.add_joi_to_robot()"
   ]
  },
  {
   "cell_type": "markdown",
   "metadata": {},
   "source": [
    "### Chain: Panda "
   ]
  },
  {
   "cell_type": "code",
   "execution_count": 4,
   "metadata": {},
   "outputs": [
    {
     "name": "stdout",
     "output_type": "stream",
     "text": [
      "panda_eef_fixed [[ 8.80000000e-02]\n",
      " [-1.65994362e-12]\n",
      " [ 8.29500000e-01]]\n"
     ]
    }
   ],
   "source": [
    "file_name = \"../urdf/panda/panda.urdf\"\n",
    "chain = CHAIN(file_name=file_name, base_offset=[0,0,0], verbose=False)\n",
    "chain.add_joi_to_robot()\n",
    "chain.add_joi_to_robot()\n",
    "chain.add_link_to_robot()\n",
    "chain.fk_chain(1)\n",
    "print(chain.joint[10].name ,chain.joint[10].p)"
   ]
  }
 ],
 "metadata": {
  "kernelspec": {
   "display_name": "Python 3.8.10 64-bit",
   "language": "python",
   "name": "python3"
  },
  "language_info": {
   "codemirror_mode": {
    "name": "ipython",
    "version": 3
   },
   "file_extension": ".py",
   "mimetype": "text/x-python",
   "name": "python",
   "nbconvert_exporter": "python",
   "pygments_lexer": "ipython3",
   "version": "3.8.10"
  },
  "orig_nbformat": 4,
  "vscode": {
   "interpreter": {
    "hash": "e7370f93d1d0cde622a1f8e1c04877d8463912d04d973331ad4851f04de6915a"
   }
  }
 },
 "nbformat": 4,
 "nbformat_minor": 2
}

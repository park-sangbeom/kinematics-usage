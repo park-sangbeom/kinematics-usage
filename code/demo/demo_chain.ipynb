{
 "cells": [
  {
   "cell_type": "code",
   "execution_count": 1,
   "metadata": {},
   "outputs": [
    {
     "name": "stdout",
     "output_type": "stream",
     "text": [
      "Done.\n"
     ]
    }
   ],
   "source": [
    "import numpy as np \n",
    "import rospy \n",
    "import os \n",
    "import sys\n",
    "sys.path.append(\"..\")\n",
    "from kinematics.class_structure import CHAIN\n",
    "\n",
    "print(\"Done.\")"
   ]
  },
  {
   "cell_type": "markdown",
   "metadata": {},
   "source": [
    "### Chain: UR5 OnRobot"
   ]
  },
  {
   "cell_type": "code",
   "execution_count": 4,
   "metadata": {},
   "outputs": [
    {
     "name": "stdout",
     "output_type": "stream",
     "text": [
      "mount_joint [[0.997]\n",
      " [0.179]\n",
      " [0.853]]\n",
      "mount_camera_joint [[0.99700002]\n",
      " [0.179     ]\n",
      " [0.883     ]]\n"
     ]
    }
   ],
   "source": [
    "file_name = \"../urdf/ur5e/ur5e_onrobot.urdf\"\n",
    "chain = CHAIN(file_name=file_name, base_offset=[0.18,0,0.79], verbose=False)\n",
    "chain.add_joi_to_robot()\n",
    "chain.add_link_to_robot()\n",
    "chain.fk_chain(1)\n",
    "print(chain.joint[7].name ,chain.joint[7].p)\n",
    "print(chain.joint[8].name ,chain.joint[8].p)"
   ]
  },
  {
   "cell_type": "markdown",
   "metadata": {},
   "source": [
    "### Chain: UR5e "
   ]
  },
  {
   "cell_type": "code",
   "execution_count": null,
   "metadata": {},
   "outputs": [],
   "source": [
    "file_name = \"../urdf/ur5e/ur5e.urdf\"\n",
    "chain = CHAIN(file_name=file_name, base_offset=[0,0,0], verbose=True)\n",
    "chain.add_joi_to_robot()"
   ]
  },
  {
   "cell_type": "markdown",
   "metadata": {},
   "source": [
    "### Chain: Panda "
   ]
  },
  {
   "cell_type": "code",
   "execution_count": null,
   "metadata": {},
   "outputs": [],
   "source": [
    "file_name = \"../urdf/panda/panda.urdf\"\n",
    "chain = CHAIN(file_name=file_name, base_offset=[0,0,0], verbose=False)\n",
    "chain.add_joi_to_robot()\n",
    "chain.add_joi_to_robot()\n",
    "chain.add_link_to_robot()\n",
    "chain.fk_chain(1)\n",
    "print(chain.joint[10].name ,chain.joint[10].p)"
   ]
  }
 ],
 "metadata": {
  "kernelspec": {
   "display_name": "Python 3.8.10 64-bit",
   "language": "python",
   "name": "python3"
  },
  "language_info": {
   "codemirror_mode": {
    "name": "ipython",
    "version": 3
   },
   "file_extension": ".py",
   "mimetype": "text/x-python",
   "name": "python",
   "nbconvert_exporter": "python",
   "pygments_lexer": "ipython3",
   "version": "3.8.10"
  },
  "orig_nbformat": 4,
  "vscode": {
   "interpreter": {
    "hash": "916dbcbb3f70747c44a77c7bcd40155683ae19c65e1c03b4aa3499c5328201f1"
   }
  }
 },
 "nbformat": 4,
 "nbformat_minor": 2
}

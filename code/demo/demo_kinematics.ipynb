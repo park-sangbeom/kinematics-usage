{
 "cells": [
  {
   "cell_type": "code",
   "execution_count": 1,
   "metadata": {},
   "outputs": [
    {
     "name": "stdout",
     "output_type": "stream",
     "text": [
      "Done.\n"
     ]
    }
   ],
   "source": [
    "import numpy as np \n",
    "import rospy \n",
    "import sys\n",
    "sys.path.append(\"..\")\n",
    "from kinematics.utils.util_ik import make_ik_input\n",
    "from kinematics.class_structure import CHAIN\n",
    "from kinematics.utils.util_ik import add_joints, find_route\n",
    "print(\"Done.\")"
   ]
  },
  {
   "cell_type": "code",
   "execution_count": 2,
   "metadata": {},
   "outputs": [],
   "source": [
    "class RobotClass(object):\n",
    "    def __init__(self, file_name, base_offset):\n",
    "        super(RobotClass,self).__init__() \n",
    "        self.chain = CHAIN(file_name=file_name, base_offset=base_offset)\n",
    "        self.chain.add_joi_to_robot()\n",
    "        self.chain.add_link_to_robot()\n",
    "        self.chain.fk_chain(1)\n",
    "    \n",
    "    def solve_ik(self,  target_name      = ['wrist_3_joint'],\n",
    "                        target_position  = [[0,0,0]],\n",
    "                        target_rotation  = [[-1.57, 0, -1.57]],\n",
    "                        solve_position   = [1],\n",
    "                        solve_rotation   = [1],\n",
    "                        weight_position  = 1,\n",
    "                        weight_rotation  = 1,\n",
    "                        joi_ctrl_num= 6): \n",
    "                        \n",
    "        ingredients = make_ik_input(target_name = target_name,\n",
    "                                    target_pos  = target_position,\n",
    "                                    target_rot  = target_rotation,\n",
    "                                    solve_pos   = solve_position,\n",
    "                                    solve_rot   = solve_rotation,\n",
    "                                    weight_pos  = weight_position,\n",
    "                                    weight_rot  = weight_rotation,\n",
    "                                    joi_ctrl_num= joi_ctrl_num)\n",
    "        total_q = self.chain.get_q_from_ik(ingredients)\n",
    "        ctrl_q  = total_q[:joi_ctrl_num+1] #Including base joint for Unity Env\n",
    "        ctrl_q  = ctrl_q.reshape(-1,)\n",
    "        return ctrl_q "
   ]
  },
  {
   "cell_type": "markdown",
   "metadata": {},
   "source": [
    "### IK Solve: Panda"
   ]
  },
  {
   "cell_type": "code",
   "execution_count": 4,
   "metadata": {},
   "outputs": [
    {
     "name": "stdout",
     "output_type": "stream",
     "text": [
      "Control joint value: [ 0.00000000e+00  1.83653589e+00  8.90053737e-01  4.18356937e-07\n",
      "  1.24100892e+00 -8.62165418e-07  2.79063523e+00  1.30505775e+00] \n",
      "Shape: (8,)\n",
      "base_joint\n",
      "[[0]\n",
      " [0]\n",
      " [0]]\n",
      "panda_joint1\n",
      "[[0.   ]\n",
      " [0.   ]\n",
      " [0.333]]\n",
      "panda_joint2\n",
      "[[0.   ]\n",
      " [0.   ]\n",
      " [0.333]]\n",
      "panda_joint3\n",
      "[[-0.0644911 ]\n",
      " [ 0.23694566]\n",
      " [ 0.531881  ]]\n",
      "panda_joint4\n",
      "[[-0.07812732]\n",
      " [ 0.28704612]\n",
      " [ 0.4677698 ]]\n",
      "panda_joint5\n",
      "[[-0.02311069]\n",
      " [ 0.08491107]\n",
      " [ 0.7999999 ]]\n",
      "panda_joint6\n",
      "[[-0.02311069]\n",
      " [ 0.08491107]\n",
      " [ 0.7999999 ]]\n",
      "panda_joint7\n",
      "[[ 8.67919643e-08]\n",
      " [-1.20457097e-08]\n",
      " [ 8.00000099e-01]]\n"
     ]
    }
   ],
   "source": [
    "file_name = \"../urdf/panda/panda.urdf\"\n",
    "base_offset = [0,0,0]\n",
    "robot     = RobotClass(file_name=file_name, base_offset=base_offset)\n",
    "q         = robot.solve_ik(target_name    = ['panda_joint7'],\n",
    "            target_position  = [[0.,0,0.8]],\n",
    "            target_rotation  = [[0, 0, 0]],\n",
    "            solve_position   = [1],\n",
    "            solve_rotation   = [1],\n",
    "            weight_position  = 1,\n",
    "            weight_rotation  = 1,\n",
    "            joi_ctrl_num= 7)\n",
    "print(\"Control joint value: {} \\nShape: {}\".format(q, q.shape))\n",
    "for i in range(8):\n",
    "    print(robot.chain.joint[i].name)\n",
    "    print(robot.chain.joint[i].p)"
   ]
  },
  {
   "cell_type": "markdown",
   "metadata": {},
   "source": [
    "### IK Solve: UR5e"
   ]
  },
  {
   "cell_type": "code",
   "execution_count": 3,
   "metadata": {},
   "outputs": [
    {
     "name": "stdout",
     "output_type": "stream",
     "text": [
      "Control joint value: [ 0.         -0.73420691 -2.0789368   1.64251504  0.43642175 -0.73420689\n",
      "  3.14159114] \n",
      "Shape: (7,)\n",
      "base_joint\n",
      "[[0]\n",
      " [0]\n",
      " [0]]\n",
      "shoulder_pan_joint\n",
      "[[0.   ]\n",
      " [0.   ]\n",
      " [0.163]]\n",
      "shoulder_lift_joint\n",
      "[[0.09245981]\n",
      " [0.10244601]\n",
      " [0.163     ]]\n",
      "elbow_joint\n",
      "[[-0.14881959]\n",
      " [ 0.14374236]\n",
      " [ 0.53430158]]\n",
      "wrist_1_joint\n",
      "[[ 0.11491045]\n",
      " [-0.09427989]\n",
      " [ 0.69999972]]\n",
      "wrist_2_joint\n",
      "[[2.00000273e-01]\n",
      " [1.28983631e-07]\n",
      " [6.99999718e-01]]\n",
      "wrist_3_joint\n",
      "[[2.00000275e-01]\n",
      " [1.27713470e-07]\n",
      " [5.99999718e-01]]\n",
      "ee_fixed_joint\n",
      "[[0.20000028]\n",
      " [0.10000013]\n",
      " [0.59999972]]\n",
      "gripper_base_joint\n",
      "[[0.20000028]\n",
      " [0.10000013]\n",
      " [0.59999972]]\n",
      "gripper_tcp_joint\n",
      "[[0.20000028]\n",
      " [0.27000007]\n",
      " [0.60013509]]\n",
      "gripper_finger1_joint\n",
      "[[0.21690026]\n",
      " [0.20499189]\n",
      " [0.61038335]]\n",
      "gripper_finger1_inner_knuckle_joint\n",
      "[[0.20740026]\n",
      " [0.22149213]\n",
      " [0.61009648]]\n",
      "gripper_finger1_finger_tip_joint\n",
      "[[0.20940027]\n",
      " [0.27645945]\n",
      " [0.60594025]]\n",
      "gripper_finger2_joint\n",
      "[[0.18290026]\n",
      " [0.20499189]\n",
      " [0.6103833 ]]\n",
      "gripper_finger2_inner_knuckle_joint\n",
      "[[0.19240026]\n",
      " [0.22149213]\n",
      " [0.61009645]]\n"
     ]
    }
   ],
   "source": [
    "file_name = \"../urdf/ur5e/ur5e_onrobot.urdf\"\n",
    "base_offset = [0,0,0]\n",
    "robot     = RobotClass(file_name=file_name, base_offset=base_offset)\n",
    "q         = robot.solve_ik(target_name = ['wrist_3_joint'],\n",
    "            target_position  = [[0.2,0,0.6]],\n",
    "            target_rotation  = [[0, 0, 0]],\n",
    "            solve_position   = [1],\n",
    "            solve_rotation   = [1],\n",
    "            weight_position  = 1,\n",
    "            weight_rotation  = 1,\n",
    "            joi_ctrl_num= 6)\n",
    "\n",
    "print(\"Control joint value: {} \\nShape: {}\".format(q, q.shape))\n",
    "for i in range(15):\n",
    "    print(robot.chain.joint[i].name)\n",
    "    print(robot.chain.joint[i].p)"
   ]
  },
  {
   "cell_type": "code",
   "execution_count": 5,
   "metadata": {},
   "outputs": [
    {
     "name": "stdout",
     "output_type": "stream",
     "text": [
      "Idx from root: [2 3 4 5 6 7]\n",
      "base_joint\n",
      "[[0 0 0]]\n",
      "shoulder_pan_joint\n",
      "[[0.    0.    0.163]]\n",
      "shoulder_lift_joint\n",
      "[[0.    0.138 0.163]]\n",
      "elbow_joint\n",
      "[[-2.08100308e-12  7.00000000e-03  5.88000000e-01]]\n",
      "wrist_1_joint\n",
      "[[0.392 0.007 0.588]]\n",
      "wrist_2_joint\n",
      "[[0.392 0.134 0.588]]\n",
      "wrist_3_joint\n",
      "[[0.492 0.134 0.588]]\n",
      "ee_fixed_joint\n",
      "[[0.492 0.134 0.488]]\n"
     ]
    }
   ],
   "source": [
    "import math \n",
    "file_name = \"../urdf/ur5e/ur5e_onrobot.urdf\"\n",
    "base_offset = [0,0,0]\n",
    "joints      = np.array([0, -math.pi/2, math.pi/2, -math.pi/2, -math.pi/2, 0])\n",
    "robot       = RobotClass(file_name=file_name, base_offset=base_offset)\n",
    "# Index From Root \n",
    "idx_fr_root = find_route(robot.chain.joint, 7) # base joint + 6-DoF\n",
    "print(\"Idx from root: {}\".format(idx_fr_root))\n",
    "add_joints(robot.chain.joint, idx_fr_root,joints)\n",
    "robot.chain.fk_chain(1)\n",
    "for i in range(8):\n",
    "    print(robot.chain.joint[i].name)\n",
    "    print(robot.chain.joint[i].p.T)\n"
   ]
  },
  {
   "cell_type": "code",
   "execution_count": 11,
   "metadata": {},
   "outputs": [
    {
     "name": "stdout",
     "output_type": "stream",
     "text": [
      "Result: [ 9.48379523e-09 -1.57079596e+00  1.57079664e+00 -1.57079612e+00\n",
      " -1.57079542e+00  8.84868418e-07]\n",
      "Goal: [ 0.         -1.57079633  1.57079633 -1.57079633 -1.57079633  0.        ]\n"
     ]
    }
   ],
   "source": [
    "file_name = \"../urdf/ur5e/ur5e_onrobot.urdf\"\n",
    "base_offset = [0,0,0]\n",
    "robot     = RobotClass(file_name=file_name, base_offset=base_offset)\n",
    "q         = robot.solve_ik(target_name = ['wrist_3_joint'],\n",
    "            target_position  = [[0.492,0.134,0.588]],\n",
    "            target_rotation  = [[-math.pi/2, 0, -math.pi/2]],\n",
    "            solve_position   = [1],\n",
    "            solve_rotation   = [1],\n",
    "            weight_position  = 1,\n",
    "            weight_rotation  = 1,\n",
    "            joi_ctrl_num= 6)\n",
    "print(\"Result: {}\".format(q[1:])) # Without base joint  \n",
    "print(\"Goal: {}\".format(np.array([0, -math.pi/2, math.pi/2, -math.pi/2, -math.pi/2, 0])))"
   ]
  },
  {
   "cell_type": "code",
   "execution_count": null,
   "metadata": {},
   "outputs": [],
   "source": []
  }
 ],
 "metadata": {
  "kernelspec": {
   "display_name": "Python 3.8.10 64-bit",
   "language": "python",
   "name": "python3"
  },
  "language_info": {
   "codemirror_mode": {
    "name": "ipython",
    "version": 3
   },
   "file_extension": ".py",
   "mimetype": "text/x-python",
   "name": "python",
   "nbconvert_exporter": "python",
   "pygments_lexer": "ipython3",
   "version": "3.8.10"
  },
  "orig_nbformat": 4,
  "vscode": {
   "interpreter": {
    "hash": "e7370f93d1d0cde622a1f8e1c04877d8463912d04d973331ad4851f04de6915a"
   }
  }
 },
 "nbformat": 4,
 "nbformat_minor": 2
}

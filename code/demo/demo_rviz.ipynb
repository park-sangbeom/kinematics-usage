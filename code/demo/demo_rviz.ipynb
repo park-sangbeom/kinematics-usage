{
 "cells": [
  {
   "cell_type": "code",
   "execution_count": 7,
   "metadata": {},
   "outputs": [
    {
     "name": "stdout",
     "output_type": "stream",
     "text": [
      "Done.\n"
     ]
    }
   ],
   "source": [
    "import numpy as np \n",
    "import math \n",
    "import rospy \n",
    "import rospy\n",
    "from tf import transformations\n",
    "from std_msgs.msg import Header, ColorRGBA\n",
    "from visualization_msgs.msg import Marker, MarkerArray\n",
    "import sys\n",
    "sys.path.append(\"..\")\n",
    "from kinematics.utils.util_ik import make_ik_input\n",
    "from kinematics.class_structure import CHAIN\n",
    "from kinematics.class_robot import RobotClass\n",
    "from kinematics.utils.util_ik import add_joints, find_route\n",
    "from kinematics.utils.util_rviz import publish_viz_robot, publish_viz_markers\n",
    "from kinematics.utils.util_structure import update_q_chain, get_p_chain, get_R_chain, get_rpy_from_R_mat, get_mesh_chain, get_scale, get_link_color, get_viz_ingredients\n",
    "print(\"Done.\")"
   ]
  },
  {
   "cell_type": "code",
   "execution_count": 8,
   "metadata": {},
   "outputs": [],
   "source": [
    "class RvizClass:\n",
    "    def __init__(self, file_name = \"../urdf/ur5e/ur5e_onrobot.urdf\", base_offset=[0,0,0]):\n",
    "        rospy.init_node(\"Run_Robot\")\n",
    "        self.pub_robot      = rospy.Publisher('viz_robot', MarkerArray, queue_size=10)\n",
    "        self.pub_sphere     = rospy.Publisher('viz_sphere', MarkerArray, queue_size=10)\n",
    "        self.chain          = CHAIN(file_name=file_name, base_offset=base_offset, verbose=False)\n",
    "        self.chain.add_joi_to_robot()\n",
    "        self.chain.add_link_to_robot()\n",
    "        self.ctrl_joint_num = 6\n",
    "\n",
    "    def check_fk(self, q_list):\n",
    "        update_q_chain(self.chain.joint, q_list, self.ctrl_joint_num)\n",
    "        self.chain.fk_chain(1)\n",
    "        p_list     = get_p_chain(self.chain.joint)\n",
    "        return p_list \n",
    "\n",
    "    def publish_robot(self, q_list):\n",
    "        update_q_chain(self.chain.joint, q_list, self.ctrl_joint_num)\n",
    "        self.chain.fk_chain(1)\n",
    "        p_list     = get_p_chain(self.chain.joint)\n",
    "        R_list     = get_R_chain(self.chain.joint)\n",
    "        rpy_list   = get_rpy_from_R_mat(R_list)\n",
    "        mesh_list  = get_mesh_chain(self.chain.link)\n",
    "        scale_list = get_scale(self.chain.link)\n",
    "        color_list = get_link_color(self.chain.link)\n",
    "        viz_links  =  get_viz_ingredients(p_list, rpy_list, mesh_list, scale_list, color_list)\n",
    "        viz_trg_robot = publish_viz_robot(viz_links)\n",
    "        self.pub_robot.publish(viz_trg_robot)\n",
    "\n",
    "    def publish_markers(self, obj):\n",
    "        viz_obj = publish_viz_markers(obj)\n",
    "        self.pub_sphere.publish(viz_obj)\n",
    "\n",
    "def make_markers(name, type, pos, rot, size, color): \n",
    "    return {\"name\":name, \"type\":type, \"info\":pos+rot+size, \"color\":color}\n"
   ]
  },
  {
   "cell_type": "code",
   "execution_count": 9,
   "metadata": {},
   "outputs": [
    {
     "name": "stdout",
     "output_type": "stream",
     "text": [
      "Control Joint: [ 0.         -0.32472405 -0.55274419 -0.69599508  2.31908853  1.40982282\n",
      " -1.85450891]/Shape: (7,)\n",
      "Position of gripper_tcp_joint: [0.743, 0.0, 1.253]\n",
      "Position of wrist_3_joint: [0.6, 0.0, 1.5]\n"
     ]
    }
   ],
   "source": [
    "file_name = \"../urdf/ur5e/ur5e_onrobot.urdf\"\n",
    "base_offset = [0.18,0,0.79]\n",
    "robot     = RobotClass(file_name=file_name, base_offset=base_offset)\n",
    "rviz = RvizClass(file_name=file_name, base_offset=base_offset)\n",
    "\n",
    "q = robot.solve_ik(target_name = ['wrist_3_joint', 'gripper_tcp_joint'],\n",
    "            target_position  = [[0.6,0.,1.5],[0,0,0]],\n",
    "            target_rotation  = [[0,0,0],[0, -math.pi/6-math.pi, 0]],\n",
    "            solve_position   = [1,0],\n",
    "            solve_rotation   = [0,1],\n",
    "            weight_position  = 1,\n",
    "            weight_rotation  = 1,\n",
    "            joi_ctrl_num= 6)\n",
    "# q         = robot.solve_ik(target_name = ['gripper_tcp_joint'],\n",
    "#             target_position  = [[0.4+0.18,0.,1.4]],\n",
    "#             target_rotation  = [[0, -math.pi/4-math.pi, 0]],\n",
    "#             solve_position   = [1],\n",
    "#             solve_rotation   = [1],\n",
    "#             weight_position  = 1,\n",
    "#             weight_rotation  = 1,\n",
    "#             joi_ctrl_num= 6)\n",
    "\n",
    "q_list = q  #np.array([0, 0, -math.pi, math.pi/2, -math.pi/2, -math.pi/2, 0])\n",
    "rviz.publish_robot(q_list=q_list)\n",
    "print(\"Control Joint: {}/Shape: {}\".format(q_list, q_list.shape))\n",
    "print(\"Position of {}: {}\".format(robot.chain.joint[9].name, [round(robot.chain.joint[9].p.T[0][0],3),\n",
    "                                                              round(robot.chain.joint[9].p.T[0][1],3), \n",
    "                                                              round(robot.chain.joint[9].p.T[0][2],3)]))\n",
    "print(\"Position of {}: {}\".format(robot.chain.joint[6].name, [round(robot.chain.joint[6].p.T[0][0],3),\n",
    "                                                              round(robot.chain.joint[6].p.T[0][1],3), \n",
    "                                                              round(robot.chain.joint[6].p.T[0][2],3)]))\n"
   ]
  },
  {
   "cell_type": "code",
   "execution_count": 10,
   "metadata": {},
   "outputs": [],
   "source": [
    "tcp_position = rviz.chain.joint[9].p.reshape(3,).tolist()\n",
    "obs_info  = make_markers(name=\"tcp_marker\", \n",
    "                         type=\"cube\",  \n",
    "                         pos=tcp_position, \n",
    "                         rot=[0,0,0], \n",
    "                         size=[0.025, 0.025, 0.025], \n",
    "                         color=[0.5,0,0,1])\n",
    "\n",
    "obs_info_lst = [obs_info]        \n",
    "\n",
    "START = True\n",
    "\n",
    "\"\"\" VISUALIZE \"\"\"\n",
    "if START:\n",
    "    rendering=0\n",
    "    rate = rospy.Rate(50)\n",
    "    while not rospy.is_shutdown():\n",
    "        if rendering == 500:\n",
    "            break \n",
    "        rviz.publish_robot(q_list=q_list)\n",
    "        rviz.publish_markers(obs_info_lst)\n",
    "        rendering +=1\n",
    "        rate.sleep()\n"
   ]
  },
  {
   "cell_type": "code",
   "execution_count": 11,
   "metadata": {},
   "outputs": [],
   "source": [
    "\n",
    "\n"
   ]
  },
  {
   "cell_type": "code",
   "execution_count": 12,
   "metadata": {},
   "outputs": [
    {
     "name": "stdout",
     "output_type": "stream",
     "text": [
      "Done.\n"
     ]
    }
   ],
   "source": [
    "\"\"\" VISUALIZE OBSTACLES\"\"\"\n",
    "obs_info  = make_markers(name=\"marker1\", \n",
    "                         type=\"cube\",  \n",
    "                         pos=[1.45, 0, 0.7], \n",
    "                         rot=[0,0,0], \n",
    "                         size=[0.05, 0.05, 0.05], \n",
    "                         color=[0.5,0,0,1])\n",
    "                         \n",
    "obs_info2 = make_markers(name=\"marker2\", \n",
    "                         type=\"sphere\", \n",
    "                         pos=[0.25, 0.6, 0.7], \n",
    "                         rot=[0,0,0], \n",
    "                         size=[0.05, 0.05, 0.05], \n",
    "                         color=[0,0.5,0,1])\n",
    "\n",
    "obs_info3 = make_markers(name=\"marker3\", \n",
    "                         type=\"sphere\", \n",
    "                         pos=[-0.45, 0.1, 0.7], \n",
    "                         rot=[0,0,0], \n",
    "                         size=[0.05, 0.05, 0.05], \n",
    "                         color=[0.,0,0.5,1])\n",
    "\n",
    "obs_info_lst2 = [obs_info, obs_info2, obs_info3] \n",
    "\n",
    "OBS_VIZ= False \n",
    "if OBS_VIZ:\n",
    "    rendering=0\n",
    "    rate = rospy.Rate(10)\n",
    "    while not rospy.is_shutdown():\n",
    "        if rendering == 100:\n",
    "            break \n",
    "        rviz.publish_markers(obs_info_lst2)\n",
    "        rendering +=1\n",
    "        rate.sleep()\n",
    "\n",
    "print(\"Done.\")"
   ]
  },
  {
   "cell_type": "code",
   "execution_count": null,
   "metadata": {},
   "outputs": [],
   "source": []
  }
 ],
 "metadata": {
  "kernelspec": {
   "display_name": "Python 3.8.10 64-bit",
   "language": "python",
   "name": "python3"
  },
  "language_info": {
   "codemirror_mode": {
    "name": "ipython",
    "version": 3
   },
   "file_extension": ".py",
   "mimetype": "text/x-python",
   "name": "python",
   "nbconvert_exporter": "python",
   "pygments_lexer": "ipython3",
   "version": "3.8.10"
  },
  "orig_nbformat": 4,
  "vscode": {
   "interpreter": {
    "hash": "e7370f93d1d0cde622a1f8e1c04877d8463912d04d973331ad4851f04de6915a"
   }
  }
 },
 "nbformat": 4,
 "nbformat_minor": 2
}

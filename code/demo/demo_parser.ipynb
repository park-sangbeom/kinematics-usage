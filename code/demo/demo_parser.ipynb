{
 "cells": [
  {
   "cell_type": "code",
   "execution_count": 1,
   "metadata": {},
   "outputs": [
    {
     "name": "stdout",
     "output_type": "stream",
     "text": [
      "Done.\n"
     ]
    }
   ],
   "source": [
    "import numpy as np \n",
    "import rospy \n",
    "import sys\n",
    "sys.path.append(\"..\")\n",
    "from kinematics.utils.util_parser import PARSER\n",
    "\n",
    "print(\"Done.\")"
   ]
  },
  {
   "cell_type": "code",
   "execution_count": 3,
   "metadata": {},
   "outputs": [
    {
     "name": "stdout",
     "output_type": "stream",
     "text": [
      "link {'name': 'base_link', 'filepath': 'package://ir_gazebo/urdf/ur5e/meshes/visual/base.dae', 'collision_type': 'mesh', 'P_offset': '0 0 0', 'R_offset': '0 0 0', 'color': '0.7 0.7 0.7 1.0', 'scale': '1 1 1'}\n",
      "link {'name': 'shoulder_link', 'filepath': 'package://ir_gazebo/urdf/ur5e/meshes/visual/shoulder.dae', 'collision_type': 'mesh', 'P_offset': '0 0 0', 'R_offset': '0 0 0', 'color': '0.7 0.7 0.7 1.0', 'scale': '1 1 1'}\n",
      "link {'name': 'upper_arm_link', 'filepath': 'package://ir_gazebo/urdf/ur5e/meshes/visual/upperarm.dae', 'collision_type': 'mesh', 'P_offset': '0 0 0', 'R_offset': '0 0 0', 'color': '0.7 0.7 0.7 1.0', 'scale': '1 1 1'}\n",
      "link {'name': 'forearm_link', 'filepath': 'package://ir_gazebo/urdf/ur5e/meshes/visual/forearm.dae', 'collision_type': 'mesh', 'P_offset': '0 0 0', 'R_offset': '0 0 0', 'color': '0.7 0.7 0.7 1.0', 'scale': '1 1 1'}\n",
      "link {'name': 'wrist_1_link', 'filepath': 'package://ir_gazebo/urdf/ur5e/meshes/visual/wrist1.dae', 'collision_type': 'mesh', 'P_offset': '0 0 0', 'R_offset': '0 0 0', 'color': '0.7 0.7 0.7 1.0', 'scale': '1 1 1'}\n",
      "link {'name': 'wrist_2_link', 'filepath': 'package://ir_gazebo/urdf/ur5e/meshes/visual/wrist2.dae', 'collision_type': 'mesh', 'P_offset': '0 0 0', 'R_offset': '0 0 0', 'color': '0.7 0.7 0.7 1.0', 'scale': '1 1 1'}\n",
      "link {'name': 'wrist_3_link', 'filepath': 'package://ir_gazebo/urdf/ur5e/meshes/visual/wrist3.dae', 'collision_type': 'mesh', 'P_offset': '0 0 0', 'R_offset': '0 0 0', 'color': '0.7 0.7 0.7 1.0', 'scale': '1 1 1'}\n",
      "link {'name': 'tool0', 'filepath': None, 'collision_type': None, 'P_offset': '0 0 0', 'R_offset': '0 0 0', 'color': '0.7 0.7 0.7 1.0', 'scale': '1 1 1'}\n",
      "link {'name': 'gripper_base_link', 'filepath': 'package://ir_gazebo/urdf/rg2/meshes/visual/gripper_base_link.dae', 'collision_type': 'mesh', 'P_offset': '0 0 0', 'R_offset': '0 0 0', 'color': '1 1 1 1', 'scale': '1 1 1'}\n",
      "link {'name': 'gripper_tcp_link', 'filepath': None, 'collision_type': None, 'P_offset': '0 0 0', 'R_offset': '0 0 0', 'color': '1 1 1 1', 'scale': '1 1 1'}\n",
      "link {'name': 'gripper_finger1_finger_link', 'filepath': 'package://ir_gazebo/urdf/rg2/meshes/visual/gripper_finger1_finger_link.dae', 'collision_type': 'mesh', 'P_offset': '0 0 0', 'R_offset': '0 0 0', 'color': '1 1 1 1', 'scale': '1 1 1'}\n",
      "link {'name': 'gripper_finger1_inner_knuckle_link', 'filepath': 'package://ir_gazebo/urdf/rg2/meshes/visual/gripper_finger1_inner_knuckle_link.dae', 'collision_type': 'mesh', 'P_offset': '0 0 0', 'R_offset': '0 0 0', 'color': '1 1 1 1', 'scale': '1 1 1'}\n",
      "link {'name': 'gripper_finger1_finger_tip_link', 'filepath': 'package://ir_gazebo/urdf/rg2/meshes/visual/gripper_finger1_finger_tip_link.dae', 'collision_type': 'mesh', 'P_offset': '0 0 0', 'R_offset': '0 0 0', 'color': '1 1 1 1', 'scale': '1 1 1'}\n",
      "link {'name': 'gripper_finger2_finger_link', 'filepath': 'package://ir_gazebo/urdf/rg2/meshes/visual/gripper_finger2_finger_link.dae', 'collision_type': 'mesh', 'P_offset': '0 0 0', 'R_offset': '0 0 0', 'color': '1 1 1 1', 'scale': '1 1 1'}\n",
      "link {'name': 'gripper_finger2_inner_knuckle_link', 'filepath': 'package://ir_gazebo/urdf/rg2/meshes/visual/gripper_finger2_inner_knuckle_link.dae', 'collision_type': 'mesh', 'P_offset': '0 0 0', 'R_offset': '0 0 0', 'color': '1 1 1 1', 'scale': '1 1 1'}\n",
      "link {'name': 'gripper_finger2_finger_tip_link', 'filepath': 'package://ir_gazebo/urdf/rg2/meshes/visual/gripper_finger2_finger_tip_link.dae', 'collision_type': 'mesh', 'P_offset': '0 0 0', 'R_offset': '0 0 0', 'color': '1 1 1 1', 'scale': '1 1 1'}\n",
      "joint {'name': 'base_joint', 'parent': 'world_link', 'child': 'base_link', 'id': 1, 'type': 'fixed', 'rpy': '0 0 0', 'xyz': '0 0 0', 'p_offset': array([[0.18],\n",
      "       [0.  ],\n",
      "       [0.25]]), 'axis': '0 0 1'}\n",
      "joint {'name': 'shoulder_pan_joint', 'parent': 'base_link', 'child': 'shoulder_link', 'id': 2, 'type': 'revolute', 'rpy': '0.0 0.0 0.0', 'xyz': '0.0 0.0 0.163', 'p_offset': None, 'axis': '0 0 1'}\n",
      "joint {'name': 'shoulder_lift_joint', 'parent': 'shoulder_link', 'child': 'upper_arm_link', 'id': 3, 'type': 'revolute', 'rpy': '0.0 1.57079632679 0.0', 'xyz': '0.0 0.138 0.0', 'p_offset': None, 'axis': '0 1 0'}\n",
      "joint {'name': 'elbow_joint', 'parent': 'upper_arm_link', 'child': 'forearm_link', 'id': 4, 'type': 'revolute', 'rpy': '0.0 0.0 0.0', 'xyz': '0.0 -0.131 0.425', 'p_offset': None, 'axis': '0 1 0'}\n",
      "joint {'name': 'wrist_1_joint', 'parent': 'forearm_link', 'child': 'wrist_1_link', 'id': 5, 'type': 'revolute', 'rpy': '0.0 1.57079632679 0.0', 'xyz': '0.0 0.0 0.392', 'p_offset': None, 'axis': '0 1 0'}\n",
      "joint {'name': 'wrist_2_joint', 'parent': 'wrist_1_link', 'child': 'wrist_2_link', 'id': 6, 'type': 'revolute', 'rpy': '0.0 0.0 0.0', 'xyz': '0.0 0.127 0.0', 'p_offset': None, 'axis': '0 0 1'}\n",
      "joint {'name': 'wrist_3_joint', 'parent': 'wrist_2_link', 'child': 'wrist_3_link', 'id': 7, 'type': 'revolute', 'rpy': '0.0 0.0 0.0', 'xyz': '0.0 0.0 0.1', 'p_offset': None, 'axis': '0 1 0'}\n",
      "joint {'name': 'ee_fixed_joint', 'parent': 'wrist_3_link', 'child': 'tool0', 'id': 8, 'type': 'fixed', 'rpy': '0 0 0', 'xyz': '0.0 0.1 0.0', 'p_offset': None, 'axis': '0 1 0'}\n",
      "joint {'name': 'gripper_base_joint', 'parent': 'tool0', 'child': 'gripper_base_link', 'id': 9, 'type': 'fixed', 'rpy': '-1.57 0 0', 'xyz': '0 0. 0.', 'p_offset': None, 'axis': '0 1 0'}\n",
      "joint {'name': 'gripper_tcp_joint', 'parent': 'gripper_base_link', 'child': 'gripper_tcp_link', 'id': 10, 'type': 'fixed', 'rpy': '0 0 0', 'xyz': '0 0. 0.17', 'p_offset': None, 'axis': '0 1 0'}\n",
      "joint {'name': 'gripper_finger1_joint', 'parent': 'gripper_base_link', 'child': 'gripper_finger1_finger_link', 'id': 11, 'type': 'revolute', 'rpy': '0 0 0', 'xyz': '0.0169 -0.0103 0.105', 'p_offset': None, 'axis': '0 1 0'}\n",
      "joint {'name': 'gripper_finger1_inner_knuckle_joint', 'parent': 'gripper_base_link', 'child': 'gripper_finger1_inner_knuckle_link', 'id': 12, 'type': 'continuous', 'rpy': '0 0 0', 'xyz': '0.0074 -0.01 0.1215', 'p_offset': None, 'axis': '0 1 0'}\n",
      "joint {'name': 'gripper_finger1_finger_tip_joint', 'parent': 'gripper_finger1_inner_knuckle_link', 'child': 'gripper_finger1_finger_tip_link', 'id': 13, 'type': 'continuous', 'rpy': '0 0 0', 'xyz': '0.002 0.0042 0.054964', 'p_offset': None, 'axis': '0 1 0'}\n",
      "joint {'name': 'gripper_finger2_joint', 'parent': 'gripper_base_link', 'child': 'gripper_finger2_finger_link', 'id': 14, 'type': 'revolute', 'rpy': '0 0 0', 'xyz': '-0.0171 -0.0103 0.105', 'p_offset': None, 'axis': '0 1 0'}\n",
      "joint {'name': 'gripper_finger2_inner_knuckle_joint', 'parent': 'gripper_base_link', 'child': 'gripper_finger2_inner_knuckle_link', 'id': 15, 'type': 'continuous', 'rpy': '0 0 0', 'xyz': '-0.0076 -0.01 0.1215', 'p_offset': None, 'axis': '0 1 0'}\n",
      "joint {'name': 'gripper_finger2_finger_tip_joint', 'parent': 'gripper_finger2_inner_knuckle_link', 'child': 'gripper_finger2_finger_tip_link', 'id': 16, 'type': 'continuous', 'rpy': '0 0 0', 'xyz': '-0.002 0.0042 0.054964', 'p_offset': None, 'axis': '0 1 0'}\n"
     ]
    }
   ],
   "source": [
    "file_name = \"../urdf/ur5e/ur5e_onrobot.urdf\"\n",
    "parser = PARSER(file_name)\n",
    "\n",
    "for i in parser.link:\n",
    "    print(\"link\",i)\n",
    "for i in parser.joint:\n",
    "    print(\"joint\",i)"
   ]
  },
  {
   "cell_type": "code",
   "execution_count": null,
   "metadata": {},
   "outputs": [],
   "source": []
  }
 ],
 "metadata": {
  "kernelspec": {
   "display_name": "Python 3.8.10 64-bit",
   "language": "python",
   "name": "python3"
  },
  "language_info": {
   "codemirror_mode": {
    "name": "ipython",
    "version": 3
   },
   "file_extension": ".py",
   "mimetype": "text/x-python",
   "name": "python",
   "nbconvert_exporter": "python",
   "pygments_lexer": "ipython3",
   "version": "3.8.10"
  },
  "orig_nbformat": 4,
  "vscode": {
   "interpreter": {
    "hash": "e7370f93d1d0cde622a1f8e1c04877d8463912d04d973331ad4851f04de6915a"
   }
  }
 },
 "nbformat": 4,
 "nbformat_minor": 2
}
